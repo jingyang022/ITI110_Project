{
 "cells": [
  {
   "cell_type": "code",
   "execution_count": 1,
   "id": "c5d76b3d-b9ca-45b7-ac1d-865ae5c8649e",
   "metadata": {
    "scrolled": true
   },
   "outputs": [],
   "source": [
    "import os, io, copy\n",
    "from glob import glob\n",
    "import numpy as np\n",
    "import pandas as pd\n",
    "import matplotlib.pyplot as plt\n",
    "import seaborn as sns\n",
    "from PIL import Image\n",
    "from sklearn.model_selection import train_test_split\n",
    "from sklearn.metrics import classification_report, roc_curve, RocCurveDisplay, DetCurveDisplay, ConfusionMatrixDisplay\n",
    "\n",
    "import tensorflow as tf\n",
    "import tensorflow_addons as tfa\n",
    "from tensorflow.keras.applications import EfficientNetB0\n",
    "from tensorflow.keras.applications.efficientnet import preprocess_input"
   ]
  },
  {
   "cell_type": "code",
   "execution_count": 2,
   "id": "93bc52c9-3fe9-4090-8080-8c137201f4a3",
   "metadata": {},
   "outputs": [],
   "source": [
    "IMG_SHAPE = (224, 224, 3)\n",
    "IMG_SIZE = IMG_SHAPE[:-1]\n",
    "\n",
    "TEST_SIZE = 0.1\n",
    "VAL_SIZE = 0.1\n",
    "\n",
    "MAX_FAR = 1e-3\n",
    "\n",
    "BASE_PATH = 'C:/Users/ngwei/Desktop/ITI110 Deep Learning Project'\n",
    "DATASET_PATH = os.path.join(BASE_PATH, 'data', 'main')"
   ]
  },
  {
   "cell_type": "code",
   "execution_count": 3,
   "id": "d75d7e5b-d04b-45c4-8a41-92e0ffe4b498",
   "metadata": {
    "scrolled": true
   },
   "outputs": [
    {
     "name": "stdout",
     "output_type": "stream",
     "text": [
      "Train:\n",
      "\t Number of Classes: 1436\n",
      "\t Number of Images:  21135 \n",
      "\n",
      "Val:\n",
      "\t Number of Classes: 160\n",
      "\t Number of Images:  2759 \n",
      "\n",
      "Test:\n",
      "\t Number of Classes: 178\n",
      "\t Number of Images:  2742 \n",
      "\n",
      "--------------------------------------------------\n",
      "Total:\n",
      "\t Number of Classes: 1774\n",
      "\t Number of Images:  26636\n"
     ]
    }
   ],
   "source": [
    "def load_data(path=DATASET_PATH, test_size=TEST_SIZE, val_size=VAL_SIZE):\n",
    "    \n",
    "    X_train, y_train, X_val, y_val, X_test, y_test = [], [], [], [], [], []\n",
    "    folders = glob(path+'/*')\n",
    "    \n",
    "    # to ensure similar distribution of number of images per class\n",
    "    def get_folder_size_bins(folders):\n",
    "        folders_size = [len(os.listdir(folder)) for folder in folders]\n",
    "        qcut_list = list(pd.qcut(folders_size, 10, duplicates='drop'))\n",
    "        return qcut_list\n",
    "    \n",
    "    qualified_folders = [folder for folder in folders if len(os.listdir(folder)) >= 2]\n",
    "    folders_size_bins = get_folder_size_bins(qualified_folders)\n",
    "    train_folders, test_folders = train_test_split(qualified_folders, stratify=folders_size_bins,\n",
    "                                                   test_size=test_size, random_state=1234)\n",
    "    \n",
    "    folders_size_bins = get_folder_size_bins(train_folders)\n",
    "    train_folders, val_folders = train_test_split(train_folders, stratify=folders_size_bins,\n",
    "                                                  test_size=val_size, random_state=1234)\n",
    "    \n",
    "    label, lbl2name = 0, dict()\n",
    "    for folder in train_folders:\n",
    "        files = glob(folder+'/*')\n",
    "        X_train.extend(files)\n",
    "        y_train.extend([label] * len(files))\n",
    "        lbl2name[label] = os.path.basename(folder)\n",
    "        label += 1\n",
    "    for folder in val_folders:\n",
    "        files = glob(folder+'/*')\n",
    "        X_val.extend(files)\n",
    "        y_val.extend([label] * len(files))\n",
    "        lbl2name[label] = os.path.basename(folder)\n",
    "        label += 1\n",
    "    for folder in test_folders:\n",
    "        files = glob(folder+'/*')\n",
    "        X_test.extend(files)\n",
    "        y_test.extend([label] * len(files))\n",
    "        lbl2name[label] = os.path.basename(folder)\n",
    "        label += 1\n",
    "        \n",
    "    X_train, y_train = np.array(X_train), np.array(y_train)\n",
    "    X_val, y_val = np.array(X_val), np.array(y_val)\n",
    "    X_test, y_test = np.array(X_test), np.array(y_test)\n",
    "    \n",
    "    print('Train:')\n",
    "    print('\\t Number of Classes:', len(train_folders))\n",
    "    print('\\t Number of Images: ', len(y_train), '\\n')\n",
    "    print('Val:')\n",
    "    print('\\t Number of Classes:', len(val_folders))\n",
    "    print('\\t Number of Images: ', len(y_val), '\\n')\n",
    "    print('Test:')\n",
    "    print('\\t Number of Classes:', len(test_folders))\n",
    "    print('\\t Number of Images: ', len(y_test), '\\n')\n",
    "    print('-'*50)\n",
    "    print('Total:')\n",
    "    print('\\t Number of Classes:', len(train_folders)+len(val_folders)+len(test_folders))\n",
    "    print('\\t Number of Images: ', len(y_train)+len(y_val)+len(y_test))\n",
    "    \n",
    "    return (X_train, y_train), (X_val, y_val), (X_test, y_test), lbl2name\n",
    "\n",
    "\n",
    "(X_train_paths, y_train_labels), (X_val_paths, y_val_labels), (X_test_paths, y_test_labels), lbl2name = load_data()"
   ]
  },
  {
   "cell_type": "code",
   "execution_count": 4,
   "id": "0f9672bc-c554-4ed4-b7d9-3d753348044b",
   "metadata": {},
   "outputs": [],
   "source": [
    "def image_preprocessing(path):\n",
    "    image = Image.open(path).resize(IMG_SIZE)\n",
    "    image = np.asarray(image).astype(\"float32\")\n",
    "    image = preprocess_input(image, data_format='channels_last')\n",
    "    return image\n",
    "\n",
    "def get_images_from_paths(img_paths, image_preprocessing_fn=image_preprocessing):\n",
    "    images = [image_preprocessing_fn(path) for path in img_paths]\n",
    "    return np.array(images, dtype='float32')\n",
    "\n",
    "def image_facenet_preprocessing(path):\n",
    "    image = Image.open(path).resize((160, 160))\n",
    "    image = np.asarray(image).astype(\"float32\")\n",
    "    image = (image * 2/255) - 1\n",
    "    return image\n",
    "\n",
    "def get_embedding_from_paths(img_paths):\n",
    "    embeddings = [np.load(f'{path[:61]}_emb{path[61:-4]}.npy') for path in img_paths]\n",
    "    return np.array(embeddings, dtype='float32')"
   ]
  },
  {
   "cell_type": "code",
   "execution_count": 5,
   "id": "2b7c4dcc",
   "metadata": {},
   "outputs": [],
   "source": [
    "def build_EfficientFaceNet(pretrained_path=''):\n",
    "    \n",
    "    Inp = tf.keras.layers.Input(IMG_SHAPE, name='input')\n",
    "    base_model = EfficientNetB0(include_top=False, input_tensor=Inp, drop_connect_rate=0.5)\n",
    "    \n",
    "    x = base_model.output\n",
    "    x = tf.keras.layers.Dropout(0.5, name='dropout1')(x)\n",
    "    x = tf.keras.layers.DepthwiseConv2D((7,7), name='glb_depth_conv')(x)\n",
    "    x = tf.keras.layers.Flatten(name='flatten')(x)\n",
    "    x = tf.keras.layers.Dropout(0.5, name='dropout2')(x)\n",
    "    x = tf.keras.layers.Dense(128, name='non_norm_emb')(x)\n",
    "    Out = tf.keras.layers.Lambda(lambda x: tf.math.l2_normalize(x, axis=1), name='norm_emb')(x)\n",
    "    \n",
    "    EfficientFaceNet = tf.keras.models.Model(inputs=Inp,\n",
    "                                             outputs=Out,\n",
    "                                             name='EfficientFaceNet')\n",
    "    if pretrained_path:\n",
    "        EfficientFaceNet.load_weights(pretrained_path)\n",
    "        \n",
    "    return EfficientFaceNet"
   ]
  },
  {
   "cell_type": "code",
   "execution_count": 6,
   "id": "342d0fff",
   "metadata": {},
   "outputs": [],
   "source": [
    "def build_SimNet():\n",
    "    \n",
    "    Inp_webcam = tf.keras.layers.Input(128, name='input_webcam')\n",
    "    Inp_db = tf.keras.layers.Input(128, name='input_db')\n",
    "    \n",
    "    sq_diff_trf = tf.keras.layers.Lambda(lambda x: (x[0]-x[1])**2, name='sq_diff')([Inp_webcam, Inp_db])\n",
    "    sq_diff_trf = tf.keras.layers.Dropout(0.5, name='dropout_sq_diff_trf')(sq_diff_trf)\n",
    "    sq_diff_trf = tf.keras.layers.Dense(64, name='dense_sq_diff_trf')(sq_diff_trf)\n",
    "    \n",
    "    mul_trf = tf.keras.layers.Multiply(name='mul')([Inp_webcam, Inp_db])\n",
    "    mul_trf = tf.keras.layers.Dropout(0.5, name='dropout_mul_trf')(mul_trf)\n",
    "    mul_trf = tf.keras.layers.Dense(64, name='dense_mul_trf')(mul_trf)\n",
    "    \n",
    "    x = tf.keras.layers.Concatenate(name='concat')([sq_diff_trf, mul_trf])\n",
    "    x = tf.keras.layers.Dropout(0.5, name='dropout1')(x)\n",
    "    x = tf.keras.layers.Dense(64, activation='relu', name='dense_concat')(x)\n",
    "    x = tf.keras.layers.Dropout(0.1, name='dropout2')(x)\n",
    "    Out = tf.keras.layers.Dense(1, activation='sigmoid', name='sim_prob')(x)\n",
    "    \n",
    "    SimNet = tf.keras.models.Model(inputs=[Inp_webcam, Inp_db], outputs=Out, name='SimNet')\n",
    "    \n",
    "    return SimNet"
   ]
  },
  {
   "cell_type": "code",
   "execution_count": 7,
   "id": "61dcedc1",
   "metadata": {},
   "outputs": [],
   "source": [
    "def get_report(model, image_preprocessing_fn, paths, labels, threshold=None):\n",
    "    \n",
    "    if image_preprocessing_fn:\n",
    "        images = get_images_from_paths(paths, image_preprocessing_fn=image_preprocessing_fn)\n",
    "        embeddings = model.predict(images, batch_size=512)\n",
    "    else:\n",
    "        embeddings = get_embedding_from_paths(paths)\n",
    "    embeddings = tf.math.l2_normalize(embeddings, axis=1)\n",
    "        \n",
    "    actual_similarities, predicted_similarities = [], []\n",
    "\n",
    "    for i, (registered_embedding, registered_label) in enumerate(zip(embeddings, labels)):\n",
    "        registered_embedding = np.array(registered_embedding)\n",
    "        webcam_embeddings = np.delete(embeddings, i, axis=0)\n",
    "        webcam_labels = np.delete(labels, i, axis=0)\n",
    "\n",
    "        if image_preprocessing_fn:\n",
    "            curr_pred_similarities = np.matmul(webcam_embeddings, np.transpose(registered_embedding))\n",
    "        else:\n",
    "            curr_pred_similarities = model([\n",
    "                np.array(webcam_embeddings),\n",
    "                np.array([registered_embedding for _ in range(len(webcam_embeddings))])\n",
    "            ])\n",
    "            curr_pred_similarities = np.array(curr_pred_similarities).flatten()\n",
    "\n",
    "        predicted_similarities.extend(curr_pred_similarities)\n",
    "\n",
    "        curr_actual_similarities = (webcam_labels==registered_label).astype(int)\n",
    "        actual_similarities.extend(curr_actual_similarities)    \n",
    "    \n",
    "    if threshold:\n",
    "        predicted_authorisations = ['Allow' if similarity >= threshold else 'Deny' for similarity in predicted_similarities]\n",
    "        actual_authorisations = ['Allow' if similarity == 1 else 'Deny' for similarity in actual_similarities]\n",
    "        print(classification_report(actual_authorisations, predicted_authorisations, digits=4))\n",
    "        return actual_authorisations, predicted_authorisations\n",
    "    \n",
    "    return actual_similarities, predicted_similarities"
   ]
  },
  {
   "cell_type": "code",
   "execution_count": 8,
   "id": "59ad094a",
   "metadata": {},
   "outputs": [],
   "source": [
    "def get_best_threshold_by_fixed_fpr(y, scores, max_fpr):\n",
    "    fpr, tpr, thresholds = roc_curve(y, scores)\n",
    "    best_threshold = thresholds[np.argmax(tpr[fpr<max_fpr])]\n",
    "    print(f'Best Threshold: {best_threshold:.4f}')\n",
    "    return best_threshold"
   ]
  },
  {
   "cell_type": "markdown",
   "id": "c26a423b",
   "metadata": {},
   "source": [
    "# Sumary"
   ]
  },
  {
   "cell_type": "code",
   "execution_count": 9,
   "id": "b3021fb7",
   "metadata": {
    "scrolled": true
   },
   "outputs": [
    {
     "name": "stderr",
     "output_type": "stream",
     "text": [
      "C:\\Users\\ngwei\\anaconda3\\envs\\tf2.6\\lib\\site-packages\\keras\\layers\\core.py:1043: UserWarning: keras.layers.core.lambda_layer is not loaded, but a Lambda layer uses it. It may cause errors.\n",
      "  warnings.warn('{} is not loaded, but a Lambda layer uses it. '\n"
     ]
    },
    {
     "name": "stdout",
     "output_type": "stream",
     "text": [
      "WARNING:tensorflow:No training configuration found in save file, so the model was *not* compiled. Compile it manually.\n"
     ]
    }
   ],
   "source": [
    "distilEfficientFaceNet = build_EfficientFaceNet(\n",
    "    os.path.join(BASE_PATH, 'models', 'distilEfficientFaceNet - run6', 'savedweights_distilEfficientFaceNet - run6')\n",
    ")\n",
    "distilEfficientFaceNet_actual_similarities, distilEfficientFaceNet_predicted_similarities = get_report(\n",
    "    distilEfficientFaceNet, image_preprocessing, X_test_paths, y_test_labels\n",
    ")\n",
    "\n",
    "siameseEfficientFaceNet = build_EfficientFaceNet(\n",
    "    os.path.join(BASE_PATH, 'models', 'siameseEfficientFaceNet - run18', 'savedweights_siameseEfficientFaceNet - run18')\n",
    ")\n",
    "siameseEfficientFaceNet_actual_similarities, siameseEfficientFaceNet_predicted_similarities = get_report(\n",
    "    siameseEfficientFaceNet, image_preprocessing, X_test_paths, y_test_labels\n",
    ")\n",
    "\n",
    "SimNet = build_SimNet()\n",
    "SimNet.load_weights(\n",
    "    os.path.join(BASE_PATH, 'models', 'simEfficientFaceNet - run2', 'savedweights_simEfficientFaceNet - run2')\n",
    ")\n",
    "SimNet_actual_similarities, SimNet_predicted_similarities = get_report(\n",
    "    SimNet, None, X_test_paths, y_test_labels\n",
    ")\n",
    "\n",
    "FaceNet = tf.keras.models.load_model(os.path.join(BASE_PATH, 'models', 'FaceNet', 'facenet_model'))\n",
    "FaceNet_actual_similarities, FaceNet_predicted_similarities = get_report(\n",
    "    FaceNet, image_facenet_preprocessing, X_test_paths, y_test_labels\n",
    ")"
   ]
  },
  {
   "cell_type": "code",
   "execution_count": 10,
   "id": "b5ebdfa5",
   "metadata": {
    "scrolled": true
   },
   "outputs": [
    {
     "data": {
      "image/png": "[encoded data removed]",
      "text/plain": [
       "<Figure size 432x288 with 1 Axes>"
      ]
     },
     "metadata": {
      "needs_background": "light"
     },
     "output_type": "display_data"
    }
   ],
   "source": [
    "disp = RocCurveDisplay.from_predictions(\n",
    "    distilEfficientFaceNet_actual_similarities, distilEfficientFaceNet_predicted_similarities,\n",
    "    name='distilEfficientFaceNet'\n",
    ")\n",
    "RocCurveDisplay.from_predictions(\n",
    "    siameseEfficientFaceNet_actual_similarities, siameseEfficientFaceNet_predicted_similarities,\n",
    "    name='siameseEfficientFaceNet', ax=disp.ax_\n",
    ")\n",
    "RocCurveDisplay.from_predictions(\n",
    "    SimNet_actual_similarities, SimNet_predicted_similarities,\n",
    "    name='SimNet', ax=disp.ax_\n",
    ")\n",
    "RocCurveDisplay.from_predictions(\n",
    "    FaceNet_actual_similarities, FaceNet_predicted_similarities,\n",
    "    name='FaceNet', ax=disp.ax_\n",
    ")\n",
    "plt.title(\"ROC\")\n",
    "plt.show()"
   ]
  },
  {
   "cell_type": "code",
   "execution_count": 11,
   "id": "2857f813",
   "metadata": {
    "scrolled": false
   },
   "outputs": [
    {
     "data": {
      "image/png": "[encoded data removed]",
      "text/plain": [
       "<Figure size 432x288 with 1 Axes>"
      ]
     },
     "metadata": {
      "needs_background": "light"
     },
     "output_type": "display_data"
    }
   ],
   "source": [
    "disp = DetCurveDisplay.from_predictions(\n",
    "    distilEfficientFaceNet_actual_similarities, distilEfficientFaceNet_predicted_similarities,\n",
    "    name='distilEfficientFaceNet'\n",
    ")\n",
    "DetCurveDisplay.from_predictions(\n",
    "    siameseEfficientFaceNet_actual_similarities, siameseEfficientFaceNet_predicted_similarities,\n",
    "    name='siameseEfficientFaceNet', ax=disp.ax_\n",
    ")\n",
    "DetCurveDisplay.from_predictions(\n",
    "    SimNet_actual_similarities, SimNet_predicted_similarities,\n",
    "    name='SimNet', ax=disp.ax_\n",
    ")\n",
    "DetCurveDisplay.from_predictions(\n",
    "    FaceNet_actual_similarities, FaceNet_predicted_similarities,\n",
    "    name='FaceNet', ax=disp.ax_\n",
    ")\n",
    "plt.title(\"DET\")\n",
    "plt.legend(loc='upper right')\n",
    "plt.show()"
   ]
  },
  {
   "cell_type": "markdown",
   "id": "1cd80d24",
   "metadata": {},
   "source": [
    "# distilEfficientFaceNet"
   ]
  },
  {
   "cell_type": "code",
   "execution_count": 12,
   "id": "810d7892",
   "metadata": {},
   "outputs": [
    {
     "name": "stdout",
     "output_type": "stream",
     "text": [
      "Best Threshold: 0.5350\n"
     ]
    }
   ],
   "source": [
    "best_distilEfficientFaceNet_threshold = get_best_threshold_by_fixed_fpr(\n",
    "    distilEfficientFaceNet_actual_similarities, distilEfficientFaceNet_predicted_similarities, MAX_FAR\n",
    ")"
   ]
  },
  {
   "cell_type": "code",
   "execution_count": 13,
   "id": "44d48c33",
   "metadata": {},
   "outputs": [
    {
     "name": "stdout",
     "output_type": "stream",
     "text": [
      "              precision    recall  f1-score   support\n",
      "\n",
      "       Allow     0.9585    0.4976    0.6551    333162\n",
      "        Deny     0.9772    0.9990    0.9880   7182660\n",
      "\n",
      "    accuracy                         0.9768   7515822\n",
      "   macro avg     0.9678    0.7483    0.8216   7515822\n",
      "weighted avg     0.9764    0.9768    0.9732   7515822\n",
      "\n"
     ]
    }
   ],
   "source": [
    "distilEfficientFaceNet_actual_authorisations, distilEfficientFaceNet_predicted_authorisations = get_report(\n",
    "    distilEfficientFaceNet, image_preprocessing,\n",
    "    X_test_paths, y_test_labels,\n",
    "    threshold = best_distilEfficientFaceNet_threshold\n",
    ")"
   ]
  },
  {
   "cell_type": "code",
   "execution_count": 14,
   "id": "ff24609d",
   "metadata": {},
   "outputs": [
    {
     "data": {
      "image/png": "[encoded data removed]",
      "text/plain": [
       "<Figure size 432x288 with 2 Axes>"
      ]
     },
     "metadata": {
      "needs_background": "light"
     },
     "output_type": "display_data"
    }
   ],
   "source": [
    "ConfusionMatrixDisplay.from_predictions(\n",
    "    distilEfficientFaceNet_actual_authorisations, distilEfficientFaceNet_predicted_authorisations\n",
    ")\n",
    "plt.title(\"Confusion Matrix\")\n",
    "plt.show()"
   ]
  },
  {
   "cell_type": "markdown",
   "id": "2597b05e",
   "metadata": {},
   "source": [
    "# siameseEfficientFaceNet"
   ]
  },
  {
   "cell_type": "code",
   "execution_count": 15,
   "id": "618bbc36",
   "metadata": {},
   "outputs": [
    {
     "name": "stdout",
     "output_type": "stream",
     "text": [
      "Best Threshold: 0.5443\n"
     ]
    }
   ],
   "source": [
    "best_siameseEfficientFaceNet_threshold = get_best_threshold_by_fixed_fpr(\n",
    "    siameseEfficientFaceNet_actual_similarities, siameseEfficientFaceNet_predicted_similarities, MAX_FAR\n",
    ")"
   ]
  },
  {
   "cell_type": "code",
   "execution_count": 16,
   "id": "a2803444",
   "metadata": {},
   "outputs": [
    {
     "name": "stdout",
     "output_type": "stream",
     "text": [
      "              precision    recall  f1-score   support\n",
      "\n",
      "       Allow     0.9601    0.5180    0.6729    333162\n",
      "        Deny     0.9781    0.9990    0.9884   7182660\n",
      "\n",
      "    accuracy                         0.9777   7515822\n",
      "   macro avg     0.9691    0.7585    0.8307   7515822\n",
      "weighted avg     0.9773    0.9777    0.9745   7515822\n",
      "\n"
     ]
    }
   ],
   "source": [
    "siameseEfficientFaceNet_actual_similarities, siameseEfficientFaceNet_predicted_similarities = get_report(\n",
    "    siameseEfficientFaceNet, image_preprocessing,\n",
    "    X_test_paths, y_test_labels,\n",
    "    threshold = best_siameseEfficientFaceNet_threshold\n",
    ")"
   ]
  },
  {
   "cell_type": "code",
   "execution_count": 17,
   "id": "a50c175b",
   "metadata": {},
   "outputs": [
    {
     "data": {
      "image/png": "[encoded data removed]",
      "text/plain": [
       "<Figure size 432x288 with 2 Axes>"
      ]
     },
     "metadata": {
      "needs_background": "light"
     },
     "output_type": "display_data"
    }
   ],
   "source": [
    "ConfusionMatrixDisplay.from_predictions(\n",
    "    siameseEfficientFaceNet_actual_similarities, siameseEfficientFaceNet_predicted_similarities\n",
    ")\n",
    "plt.title(\"Confusion Matrix\")\n",
    "plt.show()"
   ]
  },
  {
   "cell_type": "markdown",
   "id": "1e4f3123",
   "metadata": {},
   "source": [
    "# SimNet"
   ]
  },
  {
   "cell_type": "code",
   "execution_count": 12,
   "id": "40030392",
   "metadata": {},
   "outputs": [
    {
     "name": "stdout",
     "output_type": "stream",
     "text": [
      "Best Threshold: 0.9485\n"
     ]
    }
   ],
   "source": [
    "best_SimNet_threshold = get_best_threshold_by_fixed_fpr(\n",
    "    SimNet_actual_similarities, SimNet_predicted_similarities, MAX_FAR\n",
    ")"
   ]
  },
  {
   "cell_type": "code",
   "execution_count": 13,
   "id": "89d51ee0",
   "metadata": {},
   "outputs": [
    {
     "name": "stdout",
     "output_type": "stream",
     "text": [
      "              precision    recall  f1-score   support\n",
      "\n",
      "       Allow     0.9601    0.5186    0.6734    333162\n",
      "        Deny     0.9781    0.9990    0.9885   7182660\n",
      "\n",
      "    accuracy                         0.9777   7515822\n",
      "   macro avg     0.9691    0.7588    0.8309   7515822\n",
      "weighted avg     0.9773    0.9777    0.9745   7515822\n",
      "\n"
     ]
    }
   ],
   "source": [
    "SimNet_actual_similarities, SimNet_predicted_similarities = get_report(\n",
    "    SimNet, None,\n",
    "    X_test_paths, y_test_labels,\n",
    "    threshold = best_SimNet_threshold\n",
    ")"
   ]
  },
  {
   "cell_type": "code",
   "execution_count": 14,
   "id": "e31c7da5",
   "metadata": {},
   "outputs": [
    {
     "data": {
      "image/png": "[encoded data removed]",
      "text/plain": [
       "<Figure size 432x288 with 2 Axes>"
      ]
     },
     "metadata": {
      "needs_background": "light"
     },
     "output_type": "display_data"
    }
   ],
   "source": [
    "ConfusionMatrixDisplay.from_predictions(\n",
    "    SimNet_actual_similarities, SimNet_predicted_similarities\n",
    ")\n",
    "plt.title(\"Confusion Matrix\")\n",
    "plt.show()"
   ]
  },
  {
   "cell_type": "markdown",
   "id": "1a4a1f4e",
   "metadata": {},
   "source": [
    "# FaceNet"
   ]
  },
  {
   "cell_type": "code",
   "execution_count": 21,
   "id": "917c5700",
   "metadata": {},
   "outputs": [
    {
     "name": "stdout",
     "output_type": "stream",
     "text": [
      "Best Threshold: 0.4943\n"
     ]
    }
   ],
   "source": [
    "best_FaceNet_threshold = get_best_threshold_by_fixed_fpr(\n",
    "    FaceNet_actual_similarities, FaceNet_predicted_similarities, MAX_FAR\n",
    ")"
   ]
  },
  {
   "cell_type": "code",
   "execution_count": 22,
   "id": "3c89af37",
   "metadata": {},
   "outputs": [
    {
     "name": "stdout",
     "output_type": "stream",
     "text": [
      "              precision    recall  f1-score   support\n",
      "\n",
      "       Allow     0.9720    0.7493    0.8462    333162\n",
      "        Deny     0.9885    0.9990    0.9937   7182660\n",
      "\n",
      "    accuracy                         0.9879   7515822\n",
      "   macro avg     0.9803    0.8741    0.9200   7515822\n",
      "weighted avg     0.9878    0.9879    0.9872   7515822\n",
      "\n"
     ]
    }
   ],
   "source": [
    "FaceNet_actual_similarities, FaceNet_predicted_similarities = get_report(\n",
    "    FaceNet, image_facenet_preprocessing,\n",
    "    X_test_paths, y_test_labels,\n",
    "    threshold = best_FaceNet_threshold\n",
    ")"
   ]
  },
  {
   "cell_type": "code",
   "execution_count": 23,
   "id": "94d17f43",
   "metadata": {},
   "outputs": [
    {
     "data": {
      "image/png": "[encoded data removed]",
      "text/plain": [
       "<Figure size 432x288 with 2 Axes>"
      ]
     },
     "metadata": {
      "needs_background": "light"
     },
     "output_type": "display_data"
    }
   ],
   "source": [
    "ConfusionMatrixDisplay.from_predictions(\n",
    "    FaceNet_actual_similarities, FaceNet_predicted_similarities\n",
    ")\n",
    "plt.title(\"Confusion Matrix\")\n",
    "plt.show()"
   ]
  },
  {
   "cell_type": "code",
   "execution_count": null,
   "id": "3a2a834c",
   "metadata": {},
   "outputs": [],
   "source": []
  }
 ],
 "metadata": {
  "kernelspec": {
   "display_name": "Python 3 (ipykernel)",
   "language": "python",
   "name": "python3"
  },
  "language_info": {
   "codemirror_mode": {
    "name": "ipython",
    "version": 3
   },
   "file_extension": ".py",
   "mimetype": "text/x-python",
   "name": "python",
   "nbconvert_exporter": "python",
   "pygments_lexer": "ipython3",
   "version": "3.8.12"
  }
 },
 "nbformat": 4,
 "nbformat_minor": 5
}
